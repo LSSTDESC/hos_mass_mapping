{
 "cells": [
  {
   "cell_type": "code",
   "execution_count": null,
   "metadata": {},
   "outputs": [],
   "source": [
    "import numpy as np\n",
    "import matplotlib.pyplot as plt\n",
    "import os\n",
    "os.chdir(\"..\")\n",
    "\n",
    "from scripts.ks_flat import ks93, ks93inv\n",
    "from scripts.wf_flat import compute_s_from_theory, spin_wiener_filter"
   ]
  },
  {
   "cell_type": "markdown",
   "metadata": {},
   "source": [
    "### This script uses a [Wiener filter (WF)](https://arxiv.org/pdf/1109.0932) for shear to convergence reconstruction:\n",
    "\n",
    "\n",
    "WF uses the expected convergence field power spectrum (at a fiducial cosmology) and noise power spectrum. In Fourier space,\n",
    "\n",
    "\n",
    "$ \\tilde{\\kappa} = \\mathbf{SP}^\\dagger \\left[ \\mathbf{PSP}^\\dagger + \\mathbf{N} \\right]^{-1} \\tilde{\\gamma} $,\n",
    "\n",
    "\n",
    "where $\\textbf{S}$ is the covariance matrix of power spectrum signal, $\\textbf{N}$ is the noise covariance matrix, and $\\textbf{P}$ is the forward model:\n",
    "\n",
    "$ \\textbf{\\textrm{P}} = \\left( \\frac{k_1^2 - k_2^2}{k^2} + i\\frac{2k_1 k_2}{k^2} \\right), $\n",
    "\n",
    "where $k_1$ and $k_2$ are spatial frequencies.\n",
    "\n",
    "<br>\n",
    "\n",
    "##### 1. Generate shear maps"
   ]
  },
  {
   "cell_type": "code",
   "execution_count": 2,
   "metadata": {},
   "outputs": [],
   "source": [
    "# get shear maps - start with a random covergence-like field (to be replaced by HACC simulation convergence maps)\n",
    "np.random.seed(0)\n",
    "nside = 1024\n",
    "kE = np.random.rand(nside, nside) / 10\n",
    "kB = np.zeros_like(kE) # set B mode kappa map to zeros\n",
    "data_q, data_u = ks93inv(kE, kB)"
   ]
  },
  {
   "cell_type": "markdown",
   "metadata": {},
   "source": [
    "##### 2. Generate noise covariance matrix"
   ]
  },
  {
   "cell_type": "code",
   "execution_count": 3,
   "metadata": {},
   "outputs": [],
   "source": [
    "# simulation box size info\n",
    "box_width_deg = 15  ## TO UPDATE WITH HACC INFO\n",
    "box_width_pix = 256 ## TO UPDATE WITH HACC INFO\n",
    "box_width_arcmin = box_width_deg * 60 # arcmin\n",
    "pixel_size_arcmin = box_width_arcmin / box_width_pix # arcmin/pixel\n",
    "pixel_size_deg = pixel_size_arcmin / 60 # degree/pixel\n",
    "box_size_rad = np.radians(box_width_deg) # radians\n",
    "pixel_size_rad = np.radians(pixel_size_deg) # radians/pixel\n",
    "\n",
    "# galaxy shape noise level in galaxies/pixels\n",
    "sig = 0.26 / np.sqrt(2.5 * pixel_size_arcmin**2) # units of galaxies per pixel\n",
    "\n",
    "# set noise covariance matrix\n",
    "ncov_diag_Q = np.tile(sig ** 2, (box_width_pix, box_width_pix))\n",
    "ncov_diag_U = np.tile(sig ** 2, (box_width_pix, box_width_pix))"
   ]
  },
  {
   "cell_type": "markdown",
   "metadata": {},
   "source": [
    "#### 4. Generate fiducial cosmology signal power spectrum"
   ]
  },
  {
   "cell_type": "code",
   "execution_count": null,
   "metadata": {},
   "outputs": [],
   "source": [
    "# define fiducial cosmology - these values come from Table 2 in https://arxiv.org/pdf/2209.04662 (TO UPDATE WITH HACC INFO)\n",
    "Omega_m = 0.26\n",
    "sigma8 = 0.84\n",
    "w0 = -1.0\n",
    "n_s = 0.9649\n",
    "Omega_b = 0.0493\n",
    "h = 0.673\n",
    "\n",
    "# list of cosmological parameters\n",
    "cosmo_params = [Omega_m, sigma8, w0, n_s, Omega_b, h]\n",
    "\n",
    "# Load 1D power P(k) for theory E-mode signal power spectrum\n",
    "z = # INSERT HACC REDSHIFT VALUES\n",
    "nz = # INSERT HACC REDSHIFT DISTRIBUTION VALUES\n",
    "input_ps_map_E = compute_s_from_theory(cosmo_params, z, nz, box_width_pix, box_size_rad, pixel_size_rad)\n",
    "input_ps_map_B = np.zeros_like(input_ps_map_E)"
   ]
  },
  {
   "cell_type": "markdown",
   "metadata": {},
   "source": [
    "##### 5. Run WF reconstruction\n",
    "\n",
    "* Note: The same fiducial power spectrum can be used for non-fiducial convergence maps"
   ]
  },
  {
   "cell_type": "code",
   "execution_count": null,
   "metadata": {},
   "outputs": [],
   "source": [
    "wf_jax = spin_wiener_filter(data_q, data_u, ncov_diag_Q, ncov_diag_U, input_ps_map_E, input_ps_map_B)\n",
    "kE_wf, kB_wf = ks93(*wf_jax)"
   ]
  }
 ],
 "metadata": {
  "kernelspec": {
   "display_name": "Python 3",
   "language": "python",
   "name": "python3"
  },
  "language_info": {
   "codemirror_mode": {
    "name": "ipython",
    "version": 3
   },
   "file_extension": ".py",
   "mimetype": "text/x-python",
   "name": "python",
   "nbconvert_exporter": "python",
   "pygments_lexer": "ipython3",
   "version": "3.9.15"
  }
 },
 "nbformat": 4,
 "nbformat_minor": 2
}
