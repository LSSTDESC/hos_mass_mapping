{
 "cells": [
  {
   "cell_type": "code",
   "execution_count": null,
   "metadata": {},
   "outputs": [],
   "source": [
    "import numpy as np\n",
    "import healpy as hp\n",
    "import matplotlib.pyplot as plt\n",
    "import os\n",
    "os.chdir(\"..\")\n",
    "\n",
    "from scripts.mapmaking import bin_shear_map\n",
    "from scripts.kaiser_squires import flat_KS_map, healpix_KS_map"
   ]
  },
  {
   "cell_type": "markdown",
   "metadata": {},
   "source": [
    "### This notebook uses [Kaiser Squires (KS)](https://ui.adsabs.harvard.edu/abs/1993ApJ...404..441K/abstract) for shear to convergence reconstruction:\n",
    "    \n",
    "$ \\tilde{\\kappa} = \\tilde{\\kappa}_E + i\\tilde{\\kappa}_B = \\left( \\frac{k_1^2 - k_2^2}{k^2} + i\\frac{2k_1 k_2}{k^2} \\right) (\\tilde{\\gamma}_1 + i\\tilde{\\gamma}_2) $\n",
    "\n"
   ]
  },
  {
   "cell_type": "code",
   "execution_count": null,
   "metadata": {},
   "outputs": [],
   "source": [
    "# HACC pixel resolution\n",
    "Nside=4096\n",
    "\n",
    "# load HACC galaxy catalog\n",
    "file = np.loadtxt('/global/cfs/cdirs/lsst/groups/WL/projects/wl-massmap/IA-infusion/BCM/dmb/GalCat/GalCat_tomo3_All_nshells51_0.6GpAM_RA_Dec_g1_g2_w_z.asc')\n",
    "\n",
    "# make shear map from galaxy catalog\n",
    "gmap, nmap = bin_shear_map(file, npix=hp.nside2npix(Nside), sigtype='GG_noisefree')"
   ]
  },
  {
   "cell_type": "code",
   "execution_count": null,
   "metadata": {},
   "outputs": [],
   "source": [
    "# make kappa map from shear map using KS\n",
    "kE_map, kB_map = healpix_KS_map(gmap[0], sigma = 2.0)"
   ]
  },
  {
   "cell_type": "code",
   "execution_count": null,
   "metadata": {},
   "outputs": [],
   "source": []
  }
 ],
 "metadata": {
  "kernelspec": {
   "display_name": "Python 3",
   "language": "python",
   "name": "python3"
  },
  "language_info": {
   "codemirror_mode": {
    "name": "ipython",
    "version": 3
   },
   "file_extension": ".py",
   "mimetype": "text/x-python",
   "name": "python",
   "nbconvert_exporter": "python",
   "pygments_lexer": "ipython3",
   "version": "3.9.15"
  }
 },
 "nbformat": 4,
 "nbformat_minor": 2
}
